{
 "cells": [
  {
   "cell_type": "code",
   "execution_count": 1,
   "id": "1b1a6d51-7121-4958-9ffc-b9220bb1c3c6",
   "metadata": {},
   "outputs": [],
   "source": [
    "import numpy as np\n",
    "import matplotlib\n",
    "import matplotlib.pyplot as plt\n",
    "import array as arr"
   ]
  },
  {
   "cell_type": "code",
   "execution_count": 15,
   "id": "7fa86280-1dc6-4a75-903f-a4bcb3fdadbf",
   "metadata": {},
   "outputs": [
    {
     "name": "stdout",
     "output_type": "stream",
     "text": [
      "[4.75144660816104, 4.656228773933186, 4.6683210404175215, 4.668633340483243, 4.668002003005286, 4.676814988308495]\n"
     ]
    }
   ],
   "source": [
    "bifurcation_r = [3, 3.4494897, 3.5440903, 3.5644073, 3.5687594, 3.5696916, 3.5698913, 3.5699340]\n",
    "ratio = []\n",
    "n = 0 \n",
    "while (n+2)<(len(bifurcation_r)):\n",
    "    ratio.append(((bifurcation_r[n+1]-bifurcation_r[n])/(bifurcation_r[n+2]-bifurcation_r[n+1])))\n",
    "    n+=1\n",
    "\n",
    "print(ratio)"
   ]
  },
  {
   "cell_type": "code",
   "execution_count": null,
   "id": "96fbb835-e669-4e3d-a1c1-30d5b9adc5fd",
   "metadata": {},
   "outputs": [],
   "source": []
  }
 ],
 "metadata": {
  "kernelspec": {
   "display_name": "Python 3",
   "language": "python",
   "name": "python3"
  },
  "language_info": {
   "codemirror_mode": {
    "name": "ipython",
    "version": 3
   },
   "file_extension": ".py",
   "mimetype": "text/x-python",
   "name": "python",
   "nbconvert_exporter": "python",
   "pygments_lexer": "ipython3",
   "version": "3.8.8"
  }
 },
 "nbformat": 4,
 "nbformat_minor": 5
}
